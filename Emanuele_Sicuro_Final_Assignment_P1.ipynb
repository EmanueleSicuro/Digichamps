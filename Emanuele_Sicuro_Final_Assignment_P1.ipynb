{
  "cells": [
    {
      "cell_type": "markdown",
      "id": "2b04dd95-2ffb-4fa1-b4b2-091647abb161",
      "metadata": {
        "id": "2b04dd95-2ffb-4fa1-b4b2-091647abb161"
      },
      "source": [
        "# Final Assignment"
      ]
    },
    {
      "cell_type": "markdown",
      "id": "5a968c9c-628b-42c6-b692-d88b2a1866f4",
      "metadata": {
        "id": "5a968c9c-628b-42c6-b692-d88b2a1866f4"
      },
      "source": [
        "### Assignment Instructions"
      ]
    },
    {
      "cell_type": "markdown",
      "id": "8ba6a2d5-87be-4662-a940-6e9b347a5ae2",
      "metadata": {
        "id": "8ba6a2d5-87be-4662-a940-6e9b347a5ae2"
      },
      "source": [
        "#### Part 1   |   Standard Difficulty Level\n",
        "\n",
        "In this first part, you will be working with a datasets containing information of over 20k Software Professionals with different variables like:\n",
        "\n",
        "- the `Rating` of the company given by the employee,\n",
        "- the `Company Name`,\n",
        "- the `Job Title` of the employee,\n",
        "- the employee `Salary` (in Indian Rupee ₹),\n",
        "- the number of `Salaries Reported`,\n",
        "- the `Location` of the company,\n",
        "- the `Employment Status` and\n",
        "- the category of the `Job Roles`\n",
        "\n",
        "The dataset name is `Software Professionals Salary.csv` and you will find it in the `data` folder of this repository. At [this link](https://www.kaggle.com/datasets/iamsouravbanerjee/software-professional-salaries-2022?search=salary) you can find the source of the data (Kaggle) as well as more information on its composition."
      ]
    },
    {
      "cell_type": "markdown",
      "id": "cd468a65-2fe5-4427-86f5-33dd7d73dc4d",
      "metadata": {
        "id": "cd468a65-2fe5-4427-86f5-33dd7d73dc4d"
      },
      "source": []
    },
    {
      "cell_type": "markdown",
      "id": "0d3ea74d-55a1-4236-bd04-9777f1af69de",
      "metadata": {
        "id": "0d3ea74d-55a1-4236-bd04-9777f1af69de"
      },
      "source": [
        "**Setup:** Import the necessary libraries and load the .csv file to a DataFrame named `sps`. Check that all columns have the correct data type."
      ]
    },
    {
      "cell_type": "code",
      "execution_count": 4,
      "id": "40c3fbf2-54a3-440c-868f-d2509ca27aba",
      "metadata": {
        "id": "40c3fbf2-54a3-440c-868f-d2509ca27aba"
      },
      "outputs": [],
      "source": [
        "import pandas as pd\n",
        "import seaborn as sns\n",
        "import os"
      ]
    },
    {
      "cell_type": "code",
      "source": [
        "excel_file = 'Software_Professionals_Salary.xlsx'\n",
        "sps = pd.read_excel(excel_file)\n"
      ],
      "metadata": {
        "id": "GaVfWT1Bw73m"
      },
      "id": "GaVfWT1Bw73m",
      "execution_count": 6,
      "outputs": []
    },
    {
      "cell_type": "code",
      "source": [
        "sps.info() #tutte hanno il type corretto"
      ],
      "metadata": {
        "id": "2xVebIxq7WpJ",
        "colab": {
          "base_uri": "https://localhost:8080/"
        },
        "outputId": "1692a19b-7219-4b72-af67-35aa68efd49e"
      },
      "id": "2xVebIxq7WpJ",
      "execution_count": 7,
      "outputs": [
        {
          "output_type": "stream",
          "name": "stdout",
          "text": [
            "<class 'pandas.core.frame.DataFrame'>\n",
            "RangeIndex: 22770 entries, 0 to 22769\n",
            "Data columns (total 8 columns):\n",
            " #   Column             Non-Null Count  Dtype  \n",
            "---  ------             --------------  -----  \n",
            " 0   Rating             22770 non-null  float64\n",
            " 1   Company Name       22770 non-null  object \n",
            " 2   Job Title          22770 non-null  object \n",
            " 3   Salary             22770 non-null  int64  \n",
            " 4   Salaries Reported  22770 non-null  int64  \n",
            " 5   Location           22770 non-null  object \n",
            " 6   Employment Status  22770 non-null  object \n",
            " 7   Job Roles          22770 non-null  object \n",
            "dtypes: float64(1), int64(2), object(5)\n",
            "memory usage: 1.4+ MB\n"
          ]
        }
      ]
    },
    {
      "cell_type": "markdown",
      "id": "d7e527a1-5129-4008-8db5-6b196be6a7cd",
      "metadata": {
        "id": "d7e527a1-5129-4008-8db5-6b196be6a7cd"
      },
      "source": [
        "1. What is the shape (rows, cols) of the `sps` DataFrame?"
      ]
    },
    {
      "cell_type": "code",
      "execution_count": 10,
      "id": "fd0690a5-11a2-44eb-b501-b92914e30832",
      "metadata": {
        "id": "fd0690a5-11a2-44eb-b501-b92914e30832",
        "colab": {
          "base_uri": "https://localhost:8080/"
        },
        "outputId": "4753f896-2e3b-4a2f-bd28-1c4c21267950"
      },
      "outputs": [
        {
          "output_type": "execute_result",
          "data": {
            "text/plain": [
              "(22770, 8)"
            ]
          },
          "metadata": {},
          "execution_count": 10
        }
      ],
      "source": [
        "sps.shape"
      ]
    },
    {
      "cell_type": "markdown",
      "id": "a80bd554-b444-4335-9841-1c46374abf60",
      "metadata": {
        "id": "a80bd554-b444-4335-9841-1c46374abf60"
      },
      "source": [
        "2. How many unique `Job Roles` are there in the dataset?"
      ]
    },
    {
      "cell_type": "code",
      "execution_count": 8,
      "id": "c4f563b6-dfea-4fc7-8e1a-b33fdcec2454",
      "metadata": {
        "id": "c4f563b6-dfea-4fc7-8e1a-b33fdcec2454",
        "colab": {
          "base_uri": "https://localhost:8080/"
        },
        "outputId": "e9c97db6-bb93-476c-c090-5d750839acb2"
      },
      "outputs": [
        {
          "output_type": "stream",
          "name": "stdout",
          "text": [
            "11\n"
          ]
        }
      ],
      "source": [
        "unique_roles = sps['Job Roles'].nunique()\n",
        "print(unique_roles)\n"
      ]
    },
    {
      "cell_type": "markdown",
      "id": "3e37f0cb-a461-455c-8c86-3442d453e998",
      "metadata": {
        "id": "3e37f0cb-a461-455c-8c86-3442d453e998"
      },
      "source": [
        "3. How many unique `Job Title` are there for the \"Python\" `Job Role`?"
      ]
    },
    {
      "cell_type": "code",
      "execution_count": 9,
      "id": "e5114fa9-4fee-4835-ba92-dafc05c06275",
      "metadata": {
        "id": "e5114fa9-4fee-4835-ba92-dafc05c06275",
        "colab": {
          "base_uri": "https://localhost:8080/"
        },
        "outputId": "71accdee-d796-4127-fab7-187aaa07a09d"
      },
      "outputs": [
        {
          "output_type": "stream",
          "name": "stdout",
          "text": [
            "102\n"
          ]
        }
      ],
      "source": [
        "unique_title = sps[\"Job Title\"][sps['Job Roles'] == \"Python\"]\n",
        "print(unique_title.nunique())"
      ]
    },
    {
      "cell_type": "markdown",
      "id": "a17fcd33-da70-4d95-b6ef-db5a5691924f",
      "metadata": {
        "id": "a17fcd33-da70-4d95-b6ef-db5a5691924f"
      },
      "source": [
        "4. Of the `Company Name`s that are listed in the DataFrame, **how many** have a \"Python\" `Job Role` with a `Job Title` containing the **substring** \"Analyst\"?"
      ]
    },
    {
      "cell_type": "code",
      "source": [
        "a = sps['Company Name'][sps['Job Roles'] == \"Python\"][sps[\"Job Title\"].str.contains(\"Analyst\")]\n",
        "print(a.nunique())\n",
        "print(a.unique())"
      ],
      "metadata": {
        "id": "To3HvyqhU0Vt",
        "colab": {
          "base_uri": "https://localhost:8080/"
        },
        "outputId": "53dab9cb-43ab-48e5-e920-e0a897e1534f"
      },
      "id": "To3HvyqhU0Vt",
      "execution_count": 11,
      "outputs": [
        {
          "output_type": "stream",
          "name": "stdout",
          "text": [
            "3\n",
            "['Ocwen Financial' 'TrioHats Consulting' 'Infosys']\n"
          ]
        }
      ]
    },
    {
      "cell_type": "markdown",
      "id": "f2110f33-71b5-4537-9aee-514f96c06a23",
      "metadata": {
        "id": "f2110f33-71b5-4537-9aee-514f96c06a23"
      },
      "source": [
        "5. Which `Company Name` has the highest number of `Salaries Reported` (across all `Job Title`s)?"
      ]
    },
    {
      "cell_type": "code",
      "source": [
        "GB = sps.groupby('Company Name')['Job Title','Salaries Reported'].sum()\n",
        "GB.sort_values(by=['Salaries Reported'], ascending=False)\n",
        "#Amazon"
      ],
      "metadata": {
        "id": "pXHAsZnPGu1O",
        "colab": {
          "base_uri": "https://localhost:8080/",
          "height": 544
        },
        "outputId": "9302e248-3345-40cb-9384-8a65358d2950"
      },
      "id": "pXHAsZnPGu1O",
      "execution_count": 12,
      "outputs": [
        {
          "output_type": "stream",
          "name": "stderr",
          "text": [
            "<ipython-input-12-06968dc19701>:1: FutureWarning: Indexing with multiple keys (implicitly converted to a tuple of keys) will be deprecated, use a list instead.\n",
            "  GB = sps.groupby('Company Name')['Job Title','Salaries Reported'].sum()\n",
            "<ipython-input-12-06968dc19701>:1: FutureWarning: The default value of numeric_only in DataFrameGroupBy.sum is deprecated. In a future version, numeric_only will default to False. Either specify numeric_only or select only columns which should be valid for the function.\n",
            "  GB = sps.groupby('Company Name')['Job Title','Salaries Reported'].sum()\n"
          ]
        },
        {
          "output_type": "execute_result",
          "data": {
            "text/plain": [
              "                           Salaries Reported\n",
              "Company Name                                \n",
              "Amazon                                  2636\n",
              "Infosys                                 2032\n",
              "Tata Consultancy Services               1286\n",
              "Accenture                                894\n",
              "Wipro                                    651\n",
              "...                                      ...\n",
              "IndiaTechSoft                              1\n",
              "IndiaProperty                              1\n",
              "IndiaNivesh                                1\n",
              "IndiaFilings.com                           1\n",
              "‎eNotice Ninja Pluss                       1\n",
              "\n",
              "[11261 rows x 1 columns]"
            ],
            "text/html": [
              "\n",
              "  <div id=\"df-b528ace2-8c67-4d36-b063-28769afb3a7f\">\n",
              "    <div class=\"colab-df-container\">\n",
              "      <div>\n",
              "<style scoped>\n",
              "    .dataframe tbody tr th:only-of-type {\n",
              "        vertical-align: middle;\n",
              "    }\n",
              "\n",
              "    .dataframe tbody tr th {\n",
              "        vertical-align: top;\n",
              "    }\n",
              "\n",
              "    .dataframe thead th {\n",
              "        text-align: right;\n",
              "    }\n",
              "</style>\n",
              "<table border=\"1\" class=\"dataframe\">\n",
              "  <thead>\n",
              "    <tr style=\"text-align: right;\">\n",
              "      <th></th>\n",
              "      <th>Salaries Reported</th>\n",
              "    </tr>\n",
              "    <tr>\n",
              "      <th>Company Name</th>\n",
              "      <th></th>\n",
              "    </tr>\n",
              "  </thead>\n",
              "  <tbody>\n",
              "    <tr>\n",
              "      <th>Amazon</th>\n",
              "      <td>2636</td>\n",
              "    </tr>\n",
              "    <tr>\n",
              "      <th>Infosys</th>\n",
              "      <td>2032</td>\n",
              "    </tr>\n",
              "    <tr>\n",
              "      <th>Tata Consultancy Services</th>\n",
              "      <td>1286</td>\n",
              "    </tr>\n",
              "    <tr>\n",
              "      <th>Accenture</th>\n",
              "      <td>894</td>\n",
              "    </tr>\n",
              "    <tr>\n",
              "      <th>Wipro</th>\n",
              "      <td>651</td>\n",
              "    </tr>\n",
              "    <tr>\n",
              "      <th>...</th>\n",
              "      <td>...</td>\n",
              "    </tr>\n",
              "    <tr>\n",
              "      <th>IndiaTechSoft</th>\n",
              "      <td>1</td>\n",
              "    </tr>\n",
              "    <tr>\n",
              "      <th>IndiaProperty</th>\n",
              "      <td>1</td>\n",
              "    </tr>\n",
              "    <tr>\n",
              "      <th>IndiaNivesh</th>\n",
              "      <td>1</td>\n",
              "    </tr>\n",
              "    <tr>\n",
              "      <th>IndiaFilings.com</th>\n",
              "      <td>1</td>\n",
              "    </tr>\n",
              "    <tr>\n",
              "      <th>‎eNotice Ninja Pluss</th>\n",
              "      <td>1</td>\n",
              "    </tr>\n",
              "  </tbody>\n",
              "</table>\n",
              "<p>11261 rows × 1 columns</p>\n",
              "</div>\n",
              "      <button class=\"colab-df-convert\" onclick=\"convertToInteractive('df-b528ace2-8c67-4d36-b063-28769afb3a7f')\"\n",
              "              title=\"Convert this dataframe to an interactive table.\"\n",
              "              style=\"display:none;\">\n",
              "        \n",
              "  <svg xmlns=\"http://www.w3.org/2000/svg\" height=\"24px\"viewBox=\"0 0 24 24\"\n",
              "       width=\"24px\">\n",
              "    <path d=\"M0 0h24v24H0V0z\" fill=\"none\"/>\n",
              "    <path d=\"M18.56 5.44l.94 2.06.94-2.06 2.06-.94-2.06-.94-.94-2.06-.94 2.06-2.06.94zm-11 1L8.5 8.5l.94-2.06 2.06-.94-2.06-.94L8.5 2.5l-.94 2.06-2.06.94zm10 10l.94 2.06.94-2.06 2.06-.94-2.06-.94-.94-2.06-.94 2.06-2.06.94z\"/><path d=\"M17.41 7.96l-1.37-1.37c-.4-.4-.92-.59-1.43-.59-.52 0-1.04.2-1.43.59L10.3 9.45l-7.72 7.72c-.78.78-.78 2.05 0 2.83L4 21.41c.39.39.9.59 1.41.59.51 0 1.02-.2 1.41-.59l7.78-7.78 2.81-2.81c.8-.78.8-2.07 0-2.86zM5.41 20L4 18.59l7.72-7.72 1.47 1.35L5.41 20z\"/>\n",
              "  </svg>\n",
              "      </button>\n",
              "      \n",
              "  <style>\n",
              "    .colab-df-container {\n",
              "      display:flex;\n",
              "      flex-wrap:wrap;\n",
              "      gap: 12px;\n",
              "    }\n",
              "\n",
              "    .colab-df-convert {\n",
              "      background-color: #E8F0FE;\n",
              "      border: none;\n",
              "      border-radius: 50%;\n",
              "      cursor: pointer;\n",
              "      display: none;\n",
              "      fill: #1967D2;\n",
              "      height: 32px;\n",
              "      padding: 0 0 0 0;\n",
              "      width: 32px;\n",
              "    }\n",
              "\n",
              "    .colab-df-convert:hover {\n",
              "      background-color: #E2EBFA;\n",
              "      box-shadow: 0px 1px 2px rgba(60, 64, 67, 0.3), 0px 1px 3px 1px rgba(60, 64, 67, 0.15);\n",
              "      fill: #174EA6;\n",
              "    }\n",
              "\n",
              "    [theme=dark] .colab-df-convert {\n",
              "      background-color: #3B4455;\n",
              "      fill: #D2E3FC;\n",
              "    }\n",
              "\n",
              "    [theme=dark] .colab-df-convert:hover {\n",
              "      background-color: #434B5C;\n",
              "      box-shadow: 0px 1px 3px 1px rgba(0, 0, 0, 0.15);\n",
              "      filter: drop-shadow(0px 1px 2px rgba(0, 0, 0, 0.3));\n",
              "      fill: #FFFFFF;\n",
              "    }\n",
              "  </style>\n",
              "\n",
              "      <script>\n",
              "        const buttonEl =\n",
              "          document.querySelector('#df-b528ace2-8c67-4d36-b063-28769afb3a7f button.colab-df-convert');\n",
              "        buttonEl.style.display =\n",
              "          google.colab.kernel.accessAllowed ? 'block' : 'none';\n",
              "\n",
              "        async function convertToInteractive(key) {\n",
              "          const element = document.querySelector('#df-b528ace2-8c67-4d36-b063-28769afb3a7f');\n",
              "          const dataTable =\n",
              "            await google.colab.kernel.invokeFunction('convertToInteractive',\n",
              "                                                     [key], {});\n",
              "          if (!dataTable) return;\n",
              "\n",
              "          const docLinkHtml = 'Like what you see? Visit the ' +\n",
              "            '<a target=\"_blank\" href=https://colab.research.google.com/notebooks/data_table.ipynb>data table notebook</a>'\n",
              "            + ' to learn more about interactive tables.';\n",
              "          element.innerHTML = '';\n",
              "          dataTable['output_type'] = 'display_data';\n",
              "          await google.colab.output.renderOutput(dataTable, element);\n",
              "          const docLink = document.createElement('div');\n",
              "          docLink.innerHTML = docLinkHtml;\n",
              "          element.appendChild(docLink);\n",
              "        }\n",
              "      </script>\n",
              "    </div>\n",
              "  </div>\n",
              "  "
            ]
          },
          "metadata": {},
          "execution_count": 12
        }
      ]
    },
    {
      "cell_type": "markdown",
      "id": "902fbf21-180a-44de-81e4-50457980c762",
      "metadata": {
        "id": "902fbf21-180a-44de-81e4-50457980c762"
      },
      "source": [
        "**6**. Given the `Company Name` you found at the previous question, how many `Location`s is this company present in?"
      ]
    },
    {
      "cell_type": "code",
      "execution_count": 13,
      "id": "918e629a-b114-4064-8943-2cd283988e07",
      "metadata": {
        "id": "918e629a-b114-4064-8943-2cd283988e07",
        "colab": {
          "base_uri": "https://localhost:8080/"
        },
        "outputId": "76c34895-668a-4548-80a9-ba2e8b412883"
      },
      "outputs": [
        {
          "output_type": "stream",
          "name": "stdout",
          "text": [
            "9\n",
            "['Bangalore' 'Hyderabad' 'New Delhi' 'Chennai' 'Jaipur' 'Kolkata'\n",
            " 'Madhya Pradesh' 'Mumbai' 'Pune']\n"
          ]
        }
      ],
      "source": [
        "loc = sps[sps['Company Name']== \"Amazon\"][\"Location\"]\n",
        "print(loc.nunique())\n",
        "print(loc.unique())"
      ]
    },
    {
      "cell_type": "markdown",
      "id": "dee41965-0db4-446d-bf20-174898462a8d",
      "metadata": {
        "id": "dee41965-0db4-446d-bf20-174898462a8d"
      },
      "source": [
        "7. As you may have noticed, the `Salary` is reported in Indian Rupees (ISO code: INR). Using the [Open Access Endpoint](https://www.exchangerate-api.com/docs/free) (no API Key required) of the ExchangeRate-API service, create a new column named `Salary USD` containing the salary-equivalent in USD and round the result to zero decimals. What is the conversion rate between USD-INR at the time of your execution? *Note: of course, this result will change in time*"
      ]
    },
    {
      "cell_type": "code",
      "execution_count": 20,
      "id": "bab08d9b-ac6c-4ae6-a6fe-1efded5e4bab",
      "metadata": {
        "id": "bab08d9b-ac6c-4ae6-a6fe-1efded5e4bab"
      },
      "outputs": [],
      "source": [
        "import requests\n",
        "import numpy as np\n",
        "url = 'https://open.er-api.com/v6/latest/USD'\n",
        "r = requests.get(url)"
      ]
    },
    {
      "cell_type": "code",
      "source": [
        "r.json()['rates']['INR']\n",
        "#conversion rate USD_INR"
      ],
      "metadata": {
        "colab": {
          "base_uri": "https://localhost:8080/"
        },
        "id": "tx-JTa-DLDlk",
        "outputId": "8ee34ea8-28a3-4175-ecef-836bcc78827b"
      },
      "id": "tx-JTa-DLDlk",
      "execution_count": 21,
      "outputs": [
        {
          "output_type": "execute_result",
          "data": {
            "text/plain": [
              "81.937492"
            ]
          },
          "metadata": {},
          "execution_count": 21
        }
      ]
    },
    {
      "cell_type": "code",
      "source": [
        "sps.insert(4, 'Salary USD', round(sps['Salary']/r.json()['rates']['INR']))\n",
        "#creato tabella con la formula all'interno"
      ],
      "metadata": {
        "id": "Yy4UBLutx2-v"
      },
      "id": "Yy4UBLutx2-v",
      "execution_count": null,
      "outputs": []
    },
    {
      "cell_type": "markdown",
      "source": [
        "8. What is the average `Salary USD` for the \"Python\" `Job Role`?"
      ],
      "metadata": {
        "id": "lh2ZAGcVxeT1"
      },
      "id": "lh2ZAGcVxeT1"
    },
    {
      "cell_type": "code",
      "source": [
        "salary = sps['Salary USD'][sps['Job Roles'] == \"Python\"]\n",
        "print(salary.mean())"
      ],
      "metadata": {
        "colab": {
          "base_uri": "https://localhost:8080/"
        },
        "id": "qsaQ6cF1x319",
        "outputId": "f319d49e-c9e2-483c-ee0f-06e7f5bfae10"
      },
      "id": "qsaQ6cF1x319",
      "execution_count": 26,
      "outputs": [
        {
          "output_type": "stream",
          "name": "stdout",
          "text": [
            "5931.659978880676\n"
          ]
        }
      ]
    },
    {
      "cell_type": "markdown",
      "id": "32420ea4-9878-47d9-a001-eef14914f481",
      "metadata": {
        "id": "32420ea4-9878-47d9-a001-eef14914f481"
      },
      "source": [
        "9. Which `Company Name` has the highest **average** `Salary USD` across all `Job Title`s?"
      ]
    },
    {
      "cell_type": "code",
      "execution_count": null,
      "id": "b1ff1c06-087f-42bc-9e61-8aecc2a2d89c",
      "metadata": {
        "id": "b1ff1c06-087f-42bc-9e61-8aecc2a2d89c"
      },
      "outputs": [],
      "source": [
        "g = sps.groupby('Company Name')['Job Title','Salary USD'].mean()\n",
        "g.sort_values(by=['Salary USD'], ascending = False)\n",
        "#Thapar University"
      ]
    },
    {
      "cell_type": "markdown",
      "id": "305fe38f-9332-4ba9-8b01-25ec9db92793",
      "metadata": {
        "id": "305fe38f-9332-4ba9-8b01-25ec9db92793"
      },
      "source": [
        "10. Create a Plot that shows the **relationship** between the average `Salary USD` and the average `Rating` for each `Company Name`. Do you see any anomaly in the plot? Which is the `Company Name` that is causing this oddity?"
      ]
    },
    {
      "cell_type": "code",
      "execution_count": 1,
      "id": "f0573791-7710-4552-b5cc-d7a86151ed4f",
      "metadata": {
        "id": "f0573791-7710-4552-b5cc-d7a86151ed4f"
      },
      "outputs": [],
      "source": [
        "%matplotlib inline\n",
        "import matplotlib\n",
        "import matplotlib.pyplot as plt"
      ]
    },
    {
      "cell_type": "code",
      "source": [
        "average_data = sps.groupby('Company Name').mean()\n",
        "\n",
        "average_data.plot.scatter(x='Salary USD', y='Rating')\n",
        "plt.title('Relationship SalaryUSD e Rating per azienda')\n",
        "plt.xlabel('Salary USD')\n",
        "plt.ylabel('Rating')\n",
        "\n",
        "plt.show()\n",
        "# L'anomalia è la Thapar University che abbiamo visto prima\n"
      ],
      "metadata": {
        "colab": {
          "base_uri": "https://localhost:8080/",
          "height": 527
        },
        "id": "UsET8KmQrOyT",
        "outputId": "f6bf5ff3-9a1d-45e0-f885-46412c58b853"
      },
      "id": "UsET8KmQrOyT",
      "execution_count": 168,
      "outputs": [
        {
          "output_type": "stream",
          "name": "stderr",
          "text": [
            "<ipython-input-168-54943cf7a808>:1: FutureWarning: The default value of numeric_only in DataFrameGroupBy.mean is deprecated. In a future version, numeric_only will default to False. Either specify numeric_only or select only columns which should be valid for the function.\n",
            "  average_data = sps.groupby('Company Name').mean()\n"
          ]
        },
        {
          "output_type": "display_data",
          "data": {
            "text/plain": [
              "<Figure size 640x480 with 1 Axes>"
            ],
            "image/png": "[encoded data removed]"
          },
          "metadata": {}
        }
      ]
    }
  ],
  "metadata": {
    "kernelspec": {
      "display_name": "Python 3 (ipykernel)",
      "language": "python",
      "name": "python3"
    },
    "language_info": {
      "codemirror_mode": {
        "name": "ipython",
        "version": 3
      },
      "file_extension": ".py",
      "mimetype": "text/x-python",
      "name": "python",
      "nbconvert_exporter": "python",
      "pygments_lexer": "ipython3",
      "version": "3.9.7"
    },
    "colab": {
      "provenance": []
    }
  },
  "nbformat": 4,
  "nbformat_minor": 5
}